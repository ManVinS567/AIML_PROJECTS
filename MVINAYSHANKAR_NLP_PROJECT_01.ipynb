{
 "cells": [
  {
   "cell_type": "markdown",
   "id": "8db2fb44",
   "metadata": {},
   "source": [
    "# PART ONE"
   ]
  },
  {
   "cell_type": "markdown",
   "id": "3f8d64bd",
   "metadata": {},
   "source": [
    "• **DOMAIN**: Digital content management\n",
    "\n",
    "• **CONTEXT**: Classification is probably the most popular task that you would deal with in real life. Text in the form of blogs, posts, articles, etc. are written every second. It is a challenge to predict the information about the writer without knowing about him/her. We are going to create a classifier that predicts multiple features of the author of a given text. We have designed it as a Multi label classification problem.\n",
    "\n",
    "• **DATA DESCRIPTION**: Over 600,000 posts from more than 19 thousand bloggers The Blog Authorship Corpus consists of the collected posts of 19,320 bloggers gathered from blogger.com in August 2004. The corpus incorporates a total of 681,288 posts and over 140 million words - or approximately 35 posts and 7250 words per person. Each blog is presented as a separate file, the name of which indicates a blogger id# and the blogger’s self-provided gender, age, industry, and astrological sign. (All are labelled for gender and age but for many, industry and/or sign is marked as unknown.) All bloggers included in the corpus fall into one of three age groups:\n",
    "\n",
    "• 8240 \"10s\" blogs (ages 13-17), <BR>\n",
    "• 8086 \"20s\" blogs(ages 23-27) and <br>\n",
    "• 2994 \"30s\" blogs (ages 33-47) <br>\n",
    "• For each age group, there is an equal number of male and female bloggers. Each blog in the corpus includes at least 200 occurrences of\n",
    "common English words. All formatting has been stripped with two exceptions. Individual posts within a single blogger are separated by the\n",
    "date of the following post and links within a post are denoted by the label url link.\n",
    "    \n",
    "• **PROJECT OBJECTIVE**: To build a NLP classifier which can use input text parameters to determine the label/s of the blog. Specific to this case study, you can consider the text of the blog: ‘text’ feature as independent variable and ‘topic’ as dependent variable."
   ]
  },
  {
   "cell_type": "markdown",
   "id": "0d4aaea2",
   "metadata": {},
   "source": [
    "## 1. Read and Analyse Dataset. \n",
    "A. Clearly write outcome of data analysis<br> \n",
    "B. Clean the Structured Data <br> \n",
    "i. Missing value analysis and imputation.<br> \n",
    "ii. Eliminate Non-English textual data<br> \n",
    "Hint: Refer ‘langdetect’ library to detect language of the input text)"
   ]
  },
  {
   "cell_type": "code",
   "execution_count": 4,
   "id": "f16e7110",
   "metadata": {},
   "outputs": [
    {
     "name": "stderr",
     "output_type": "stream",
     "text": [
      "[nltk_data] Downloading package stopwords to\n",
      "[nltk_data]     C:\\Users\\manvi\\AppData\\Roaming\\nltk_data...\n",
      "[nltk_data]   Unzipping corpora\\stopwords.zip.\n"
     ]
    },
    {
     "data": {
      "text/plain": [
       "True"
      ]
     },
     "execution_count": 4,
     "metadata": {},
     "output_type": "execute_result"
    }
   ],
   "source": [
    "# importing libraries\n",
    "import nltk\n",
    "nltk.download('stopwords')"
   ]
  },
  {
   "cell_type": "code",
   "execution_count": 6,
   "id": "f09ef3b8",
   "metadata": {},
   "outputs": [],
   "source": [
    "import gc # automatic garbage collector \n",
    "gc.enable\n",
    "\n",
    "import pandas as pd\n",
    "pd.options.mode.chained_assignment = None\n",
    "\n",
    "import numpy as np\n",
    "import re\n",
    "import spacy\n",
    "import string\n",
    "import seaborn as sns\n",
    "\n",
    "\n",
    "sns.set(rc={'figure.figsize':(15,16)})\n",
    "sns.set_theme(style=\"darkgrid\")"
   ]
  },
  {
   "cell_type": "code",
   "execution_count": 8,
   "id": "a5d15582",
   "metadata": {},
   "outputs": [],
   "source": [
    "# unzip the data\n",
    "from zipfile import ZipFile\n",
    "with ZipFile('blogs.zip') as z:\n",
    "    z.extractall()"
   ]
  },
  {
   "cell_type": "code",
   "execution_count": 9,
   "id": "16e2dc6c",
   "metadata": {},
   "outputs": [],
   "source": [
    "# load dataset \n",
    "data = pd.read_csv('blogtext.csv', index_col = False)"
   ]
  },
  {
   "cell_type": "code",
   "execution_count": 11,
   "id": "ff0c278f",
   "metadata": {},
   "outputs": [
    {
     "data": {
      "text/html": [
       "<div>\n",
       "<style scoped>\n",
       "    .dataframe tbody tr th:only-of-type {\n",
       "        vertical-align: middle;\n",
       "    }\n",
       "\n",
       "    .dataframe tbody tr th {\n",
       "        vertical-align: top;\n",
       "    }\n",
       "\n",
       "    .dataframe thead th {\n",
       "        text-align: right;\n",
       "    }\n",
       "</style>\n",
       "<table border=\"1\" class=\"dataframe\">\n",
       "  <thead>\n",
       "    <tr style=\"text-align: right;\">\n",
       "      <th></th>\n",
       "      <th>id</th>\n",
       "      <th>gender</th>\n",
       "      <th>age</th>\n",
       "      <th>topic</th>\n",
       "      <th>sign</th>\n",
       "      <th>date</th>\n",
       "      <th>text</th>\n",
       "    </tr>\n",
       "  </thead>\n",
       "  <tbody>\n",
       "    <tr>\n",
       "      <th>0</th>\n",
       "      <td>2059027</td>\n",
       "      <td>male</td>\n",
       "      <td>15</td>\n",
       "      <td>Student</td>\n",
       "      <td>Leo</td>\n",
       "      <td>14,May,2004</td>\n",
       "      <td>Info has been found (+/- 100 pages,...</td>\n",
       "    </tr>\n",
       "    <tr>\n",
       "      <th>1</th>\n",
       "      <td>2059027</td>\n",
       "      <td>male</td>\n",
       "      <td>15</td>\n",
       "      <td>Student</td>\n",
       "      <td>Leo</td>\n",
       "      <td>13,May,2004</td>\n",
       "      <td>These are the team members:   Drewe...</td>\n",
       "    </tr>\n",
       "    <tr>\n",
       "      <th>2</th>\n",
       "      <td>2059027</td>\n",
       "      <td>male</td>\n",
       "      <td>15</td>\n",
       "      <td>Student</td>\n",
       "      <td>Leo</td>\n",
       "      <td>12,May,2004</td>\n",
       "      <td>In het kader van kernfusie op aarde...</td>\n",
       "    </tr>\n",
       "    <tr>\n",
       "      <th>3</th>\n",
       "      <td>2059027</td>\n",
       "      <td>male</td>\n",
       "      <td>15</td>\n",
       "      <td>Student</td>\n",
       "      <td>Leo</td>\n",
       "      <td>12,May,2004</td>\n",
       "      <td>testing!!!  testing!!!</td>\n",
       "    </tr>\n",
       "    <tr>\n",
       "      <th>4</th>\n",
       "      <td>3581210</td>\n",
       "      <td>male</td>\n",
       "      <td>33</td>\n",
       "      <td>InvestmentBanking</td>\n",
       "      <td>Aquarius</td>\n",
       "      <td>11,June,2004</td>\n",
       "      <td>Thanks to Yahoo!'s Toolbar I can ...</td>\n",
       "    </tr>\n",
       "  </tbody>\n",
       "</table>\n",
       "</div>"
      ],
      "text/plain": [
       "        id gender  age              topic      sign          date  \\\n",
       "0  2059027   male   15            Student       Leo   14,May,2004   \n",
       "1  2059027   male   15            Student       Leo   13,May,2004   \n",
       "2  2059027   male   15            Student       Leo   12,May,2004   \n",
       "3  2059027   male   15            Student       Leo   12,May,2004   \n",
       "4  3581210   male   33  InvestmentBanking  Aquarius  11,June,2004   \n",
       "\n",
       "                                                text  \n",
       "0             Info has been found (+/- 100 pages,...  \n",
       "1             These are the team members:   Drewe...  \n",
       "2             In het kader van kernfusie op aarde...  \n",
       "3                   testing!!!  testing!!!            \n",
       "4               Thanks to Yahoo!'s Toolbar I can ...  "
      ]
     },
     "execution_count": 11,
     "metadata": {},
     "output_type": "execute_result"
    }
   ],
   "source": [
    "data.head()"
   ]
  },
  {
   "cell_type": "code",
   "execution_count": 13,
   "id": "1dfb5774",
   "metadata": {},
   "outputs": [
    {
     "data": {
      "text/plain": [
       "(681284, 7)"
      ]
     },
     "execution_count": 13,
     "metadata": {},
     "output_type": "execute_result"
    }
   ],
   "source": [
    "# shape of the data\n",
    "data.shape"
   ]
  },
  {
   "cell_type": "code",
   "execution_count": 16,
   "id": "2ab85108",
   "metadata": {},
   "outputs": [],
   "source": [
    "# dropping the columns 'id' and 'date'\n",
    "data.drop(labels=['id','date'], axis=1, inplace=True)"
   ]
  },
  {
   "cell_type": "code",
   "execution_count": 18,
   "id": "32c81ebd",
   "metadata": {},
   "outputs": [
    {
     "data": {
      "text/plain": [
       "(681284, 5)"
      ]
     },
     "execution_count": 18,
     "metadata": {},
     "output_type": "execute_result"
    }
   ],
   "source": [
    "data.shape"
   ]
  },
  {
   "cell_type": "code",
   "execution_count": 19,
   "id": "6adee8bb",
   "metadata": {},
   "outputs": [
    {
     "name": "stdout",
     "output_type": "stream",
     "text": [
      "<class 'pandas.core.frame.DataFrame'>\n",
      "RangeIndex: 681284 entries, 0 to 681283\n",
      "Data columns (total 5 columns):\n",
      " #   Column  Non-Null Count   Dtype \n",
      "---  ------  --------------   ----- \n",
      " 0   gender  681284 non-null  object\n",
      " 1   age     681284 non-null  int64 \n",
      " 2   topic   681284 non-null  object\n",
      " 3   sign    681284 non-null  object\n",
      " 4   text    681284 non-null  object\n",
      "dtypes: int64(1), object(4)\n",
      "memory usage: 26.0+ MB\n"
     ]
    }
   ],
   "source": [
    "data.info()"
   ]
  },
  {
   "cell_type": "markdown",
   "id": "fcdf62ab",
   "metadata": {},
   "source": [
    "### Preprocessing\n",
    "Some of the common text preprocessing / cleaning steps are:\n",
    "\n",
    "- [ ] remove unwanted space \n",
    "- [ ] remove unwanted characters / remove Punctuation\n",
    "- [ ] remove Stopwords \n",
    "- [ ] convert text to lowercase"
   ]
  },
  {
   "cell_type": "code",
   "execution_count": 20,
   "id": "3f7c9ebe",
   "metadata": {},
   "outputs": [],
   "source": [
    "## truncated dataset to start on rapid protyping to preprocessing \n",
    "df_trc = data[[\"text\"]]"
   ]
  },
  {
   "cell_type": "code",
   "execution_count": 21,
   "id": "b09fc5dd",
   "metadata": {},
   "outputs": [
    {
     "data": {
      "text/html": [
       "<div>\n",
       "<style scoped>\n",
       "    .dataframe tbody tr th:only-of-type {\n",
       "        vertical-align: middle;\n",
       "    }\n",
       "\n",
       "    .dataframe tbody tr th {\n",
       "        vertical-align: top;\n",
       "    }\n",
       "\n",
       "    .dataframe thead th {\n",
       "        text-align: right;\n",
       "    }\n",
       "</style>\n",
       "<table border=\"1\" class=\"dataframe\">\n",
       "  <thead>\n",
       "    <tr style=\"text-align: right;\">\n",
       "      <th></th>\n",
       "      <th>text</th>\n",
       "    </tr>\n",
       "  </thead>\n",
       "  <tbody>\n",
       "    <tr>\n",
       "      <th>0</th>\n",
       "      <td>Info has been found (+/- 100 pages,...</td>\n",
       "    </tr>\n",
       "    <tr>\n",
       "      <th>1</th>\n",
       "      <td>These are the team members:   Drewe...</td>\n",
       "    </tr>\n",
       "    <tr>\n",
       "      <th>2</th>\n",
       "      <td>In het kader van kernfusie op aarde...</td>\n",
       "    </tr>\n",
       "    <tr>\n",
       "      <th>3</th>\n",
       "      <td>testing!!!  testing!!!</td>\n",
       "    </tr>\n",
       "    <tr>\n",
       "      <th>4</th>\n",
       "      <td>Thanks to Yahoo!'s Toolbar I can ...</td>\n",
       "    </tr>\n",
       "  </tbody>\n",
       "</table>\n",
       "</div>"
      ],
      "text/plain": [
       "                                                text\n",
       "0             Info has been found (+/- 100 pages,...\n",
       "1             These are the team members:   Drewe...\n",
       "2             In het kader van kernfusie op aarde...\n",
       "3                   testing!!!  testing!!!          \n",
       "4               Thanks to Yahoo!'s Toolbar I can ..."
      ]
     },
     "execution_count": 21,
     "metadata": {},
     "output_type": "execute_result"
    }
   ],
   "source": [
    "df_trc[:5]"
   ]
  },
  {
   "cell_type": "code",
   "execution_count": 22,
   "id": "448a2eee",
   "metadata": {},
   "outputs": [],
   "source": [
    "pd.options.mode.chained_assignment = None\n",
    "df_trc['text'] = df_trc[['text']]\n",
    "# change the datatype of 'text' column to string\n",
    "df_trc['text'] = df_trc['text'].astype(str)"
   ]
  },
  {
   "cell_type": "markdown",
   "id": "336b9a77",
   "metadata": {},
   "source": [
    "### Lower Casing\n",
    "Lower casing is a common text preprocessing technique. The idea is to convert the input text into same casing format so that 'text', 'Text' and 'TEXT' are treated the same way.\n",
    "\n",
    "This is more helpful for text featurization techniques like frequency, tfidf as it helps to combine the same words together thereby reducing the duplication and get correct counts / tfidf values.\n",
    "\n",
    "This may not be helpful when we do tasks like Part of Speech tagging (where proper casing gives some information about Nouns and so on) and Sentiment Analysis (where upper casing refers to anger and so on)\n",
    "\n",
    "By default, lower casing is done my most of the modern day vecotirzers and tokenizers like sklearn TfidfVectorizer and Keras Tokenizer. So we need to set them to false as needed depending on our use case."
   ]
  },
  {
   "cell_type": "code",
   "execution_count": 26,
   "id": "65595d9c",
   "metadata": {},
   "outputs": [
    {
     "data": {
      "text/html": [
       "<div>\n",
       "<style scoped>\n",
       "    .dataframe tbody tr th:only-of-type {\n",
       "        vertical-align: middle;\n",
       "    }\n",
       "\n",
       "    .dataframe tbody tr th {\n",
       "        vertical-align: top;\n",
       "    }\n",
       "\n",
       "    .dataframe thead th {\n",
       "        text-align: right;\n",
       "    }\n",
       "</style>\n",
       "<table border=\"1\" class=\"dataframe\">\n",
       "  <thead>\n",
       "    <tr style=\"text-align: right;\">\n",
       "      <th></th>\n",
       "      <th>text</th>\n",
       "      <th>text_lowercase</th>\n",
       "    </tr>\n",
       "  </thead>\n",
       "  <tbody>\n",
       "    <tr>\n",
       "      <th>0</th>\n",
       "      <td>Info has been found (+/- 100 pages,...</td>\n",
       "      <td>info has been found (+/- 100 pages,...</td>\n",
       "    </tr>\n",
       "    <tr>\n",
       "      <th>1</th>\n",
       "      <td>These are the team members:   Drewe...</td>\n",
       "      <td>these are the team members:   drewe...</td>\n",
       "    </tr>\n",
       "    <tr>\n",
       "      <th>2</th>\n",
       "      <td>In het kader van kernfusie op aarde...</td>\n",
       "      <td>in het kader van kernfusie op aarde...</td>\n",
       "    </tr>\n",
       "    <tr>\n",
       "      <th>3</th>\n",
       "      <td>testing!!!  testing!!!</td>\n",
       "      <td>testing!!!  testing!!!</td>\n",
       "    </tr>\n",
       "    <tr>\n",
       "      <th>4</th>\n",
       "      <td>Thanks to Yahoo!'s Toolbar I can ...</td>\n",
       "      <td>thanks to yahoo!'s toolbar i can ...</td>\n",
       "    </tr>\n",
       "  </tbody>\n",
       "</table>\n",
       "</div>"
      ],
      "text/plain": [
       "                                                text  \\\n",
       "0             Info has been found (+/- 100 pages,...   \n",
       "1             These are the team members:   Drewe...   \n",
       "2             In het kader van kernfusie op aarde...   \n",
       "3                   testing!!!  testing!!!             \n",
       "4               Thanks to Yahoo!'s Toolbar I can ...   \n",
       "\n",
       "                                      text_lowercase  \n",
       "0             info has been found (+/- 100 pages,...  \n",
       "1             these are the team members:   drewe...  \n",
       "2             in het kader van kernfusie op aarde...  \n",
       "3                   testing!!!  testing!!!            \n",
       "4               thanks to yahoo!'s toolbar i can ...  "
      ]
     },
     "execution_count": 26,
     "metadata": {},
     "output_type": "execute_result"
    }
   ],
   "source": [
    "df_trc['text_lowercase'] = df_trc['text'].str.lower()\n",
    "df_trc.head()"
   ]
  },
  {
   "cell_type": "markdown",
   "id": "b3987c4e",
   "metadata": {},
   "source": [
    "### Removal of Punctuations\n",
    "One another common text preprocessing technique is to remove the punctuations from the text data. This is again a text standardization process that will help to treat 'hurray' and 'hurray!' in the same way.\n",
    "\n",
    "We also need to carefully choose the list of punctuations to exclude depending on the use case. For example, the string.punctuation in python contains the following punctuation symbols\n",
    "\n",
    "!\"#$%&'()*+,-./:;<=>?@[\\]^_{|}~`\n",
    "\n",
    "We can add or remove more punctuations as per our need."
   ]
  },
  {
   "cell_type": "code",
   "execution_count": 27,
   "id": "acb21c06",
   "metadata": {},
   "outputs": [],
   "source": [
    "PUNCT_TO_REMOVE = string.punctuation\n",
    "def remove_punctuation(text):\n",
    "    return text.translate(str.maketrans('','',PUNCT_TO_REMOVE))"
   ]
  },
  {
   "cell_type": "markdown",
   "id": "f003c7f7",
   "metadata": {},
   "source": [
    "\n",
    "### Removal of stopwords\n",
    "\n",
    "Stopwords are commonly occuring words in a language like 'the', 'a' and so on. They can be removed from the text most of the times, as they don't provide valuable information for downstream analysis. In cases like Part of Speech tagging, we should not remove them as provide very valuable information about the POS.\n",
    "\n",
    "These stopword lists are already compiled for different languages and we can safely use them. For example, the stopword list for english language from the nltk package can be seen below."
   ]
  },
  {
   "cell_type": "code",
   "execution_count": 28,
   "id": "a06153be",
   "metadata": {},
   "outputs": [
    {
     "data": {
      "text/plain": [
       "\"i, me, my, myself, we, our, ours, ourselves, you, you're, you've, you'll, you'd, your, yours, yourself, yourselves, he, him, his, himself, she, she's, her, hers, herself, it, it's, its, itself, they, them, their, theirs, themselves, what, which, who, whom, this, that, that'll, these, those, am, is, are, was, were, be, been, being, have, has, had, having, do, does, did, doing, a, an, the, and, but, if, or, because, as, until, while, of, at, by, for, with, about, against, between, into, through, during, before, after, above, below, to, from, up, down, in, out, on, off, over, under, again, further, then, once, here, there, when, where, why, how, all, any, both, each, few, more, most, other, some, such, no, nor, not, only, own, same, so, than, too, very, s, t, can, will, just, don, don't, should, should've, now, d, ll, m, o, re, ve, y, ain, aren, aren't, couldn, couldn't, didn, didn't, doesn, doesn't, hadn, hadn't, hasn, hasn't, haven, haven't, isn, isn't, ma, mightn, mightn't, mustn, mustn't, needn, needn't, shan, shan't, shouldn, shouldn't, wasn, wasn't, weren, weren't, won, won't, wouldn, wouldn't\""
      ]
     },
     "execution_count": 28,
     "metadata": {},
     "output_type": "execute_result"
    }
   ],
   "source": [
    "from nltk.corpus import stopwords\n",
    "\", \".join(stopwords.words('english'))"
   ]
  },
  {
   "cell_type": "code",
   "execution_count": 29,
   "id": "8989e909",
   "metadata": {},
   "outputs": [],
   "source": [
    "STOPWORDS = set(stopwords.words('english'))\n",
    "\n",
    "def remove_stopwords(text):\n",
    "    return \" \".join([word for word in str(text).split() if word not in STOPWORDS])"
   ]
  },
  {
   "cell_type": "markdown",
   "id": "db99c821",
   "metadata": {},
   "source": [
    "> Pipeliining all the above steps :"
   ]
  },
  {
   "cell_type": "code",
   "execution_count": 31,
   "id": "f0ec31dc",
   "metadata": {},
   "outputs": [],
   "source": [
    "# Pipeline the pre-processing \n",
    "\n",
    "def clean_text(text):\n",
    "    text = text.strip()\n",
    "    text = remove_punctuation(text)\n",
    "    text = remove_stopwords(text)\n",
    "    text = text.lower()\n",
    "    return text\n",
    "data[\"text\"] = data[\"text\"].map(lambda text : clean_text(text))"
   ]
  },
  {
   "cell_type": "code",
   "execution_count": 33,
   "id": "3ac37fa0",
   "metadata": {},
   "outputs": [
    {
     "data": {
      "text/html": [
       "<div>\n",
       "<style scoped>\n",
       "    .dataframe tbody tr th:only-of-type {\n",
       "        vertical-align: middle;\n",
       "    }\n",
       "\n",
       "    .dataframe tbody tr th {\n",
       "        vertical-align: top;\n",
       "    }\n",
       "\n",
       "    .dataframe thead th {\n",
       "        text-align: right;\n",
       "    }\n",
       "</style>\n",
       "<table border=\"1\" class=\"dataframe\">\n",
       "  <thead>\n",
       "    <tr style=\"text-align: right;\">\n",
       "      <th></th>\n",
       "      <th>gender</th>\n",
       "      <th>age</th>\n",
       "      <th>topic</th>\n",
       "      <th>sign</th>\n",
       "      <th>text</th>\n",
       "    </tr>\n",
       "  </thead>\n",
       "  <tbody>\n",
       "    <tr>\n",
       "      <th>0</th>\n",
       "      <td>male</td>\n",
       "      <td>15</td>\n",
       "      <td>Student</td>\n",
       "      <td>Leo</td>\n",
       "      <td>info found 100 pages 45 mb pdf files now wait ...</td>\n",
       "    </tr>\n",
       "    <tr>\n",
       "      <th>1</th>\n",
       "      <td>male</td>\n",
       "      <td>15</td>\n",
       "      <td>Student</td>\n",
       "      <td>Leo</td>\n",
       "      <td>these team members drewes van der laag urllink...</td>\n",
       "    </tr>\n",
       "    <tr>\n",
       "      <th>2</th>\n",
       "      <td>male</td>\n",
       "      <td>15</td>\n",
       "      <td>Student</td>\n",
       "      <td>Leo</td>\n",
       "      <td>in het kader van kernfusie op aarde maak je ei...</td>\n",
       "    </tr>\n",
       "    <tr>\n",
       "      <th>3</th>\n",
       "      <td>male</td>\n",
       "      <td>15</td>\n",
       "      <td>Student</td>\n",
       "      <td>Leo</td>\n",
       "      <td>testing testing</td>\n",
       "    </tr>\n",
       "    <tr>\n",
       "      <th>4</th>\n",
       "      <td>male</td>\n",
       "      <td>33</td>\n",
       "      <td>InvestmentBanking</td>\n",
       "      <td>Aquarius</td>\n",
       "      <td>thanks yahoos toolbar i capture urls popupswhi...</td>\n",
       "    </tr>\n",
       "  </tbody>\n",
       "</table>\n",
       "</div>"
      ],
      "text/plain": [
       "  gender  age              topic      sign  \\\n",
       "0   male   15            Student       Leo   \n",
       "1   male   15            Student       Leo   \n",
       "2   male   15            Student       Leo   \n",
       "3   male   15            Student       Leo   \n",
       "4   male   33  InvestmentBanking  Aquarius   \n",
       "\n",
       "                                                text  \n",
       "0  info found 100 pages 45 mb pdf files now wait ...  \n",
       "1  these team members drewes van der laag urllink...  \n",
       "2  in het kader van kernfusie op aarde maak je ei...  \n",
       "3                                    testing testing  \n",
       "4  thanks yahoos toolbar i capture urls popupswhi...  "
      ]
     },
     "execution_count": 33,
     "metadata": {},
     "output_type": "execute_result"
    }
   ],
   "source": [
    "gc.collect()\n",
    "\n",
    "data.head()"
   ]
  },
  {
   "cell_type": "markdown",
   "id": "eeff36a9",
   "metadata": {},
   "source": [
    "## EDA \n",
    "\n",
    "\n",
    "After cleaning the text, let's have some idea about the dataset "
   ]
  },
  {
   "cell_type": "code",
   "execution_count": 34,
   "id": "fd620bbf",
   "metadata": {},
   "outputs": [
    {
     "name": "stdout",
     "output_type": "stream",
     "text": [
      "<class 'pandas.core.frame.DataFrame'>\n",
      "RangeIndex: 681284 entries, 0 to 681283\n",
      "Data columns (total 5 columns):\n",
      " #   Column  Non-Null Count   Dtype \n",
      "---  ------  --------------   ----- \n",
      " 0   gender  681284 non-null  object\n",
      " 1   age     681284 non-null  int64 \n",
      " 2   topic   681284 non-null  object\n",
      " 3   sign    681284 non-null  object\n",
      " 4   text    681284 non-null  object\n",
      "dtypes: int64(1), object(4)\n",
      "memory usage: 26.0+ MB\n"
     ]
    }
   ],
   "source": [
    "data.info()"
   ]
  },
  {
   "cell_type": "code",
   "execution_count": 36,
   "id": "f0a8d5d6",
   "metadata": {},
   "outputs": [
    {
     "data": {
      "text/html": [
       "<div>\n",
       "<style scoped>\n",
       "    .dataframe tbody tr th:only-of-type {\n",
       "        vertical-align: middle;\n",
       "    }\n",
       "\n",
       "    .dataframe tbody tr th {\n",
       "        vertical-align: top;\n",
       "    }\n",
       "\n",
       "    .dataframe thead th {\n",
       "        text-align: right;\n",
       "    }\n",
       "</style>\n",
       "<table border=\"1\" class=\"dataframe\">\n",
       "  <thead>\n",
       "    <tr style=\"text-align: right;\">\n",
       "      <th></th>\n",
       "      <th>0</th>\n",
       "      <th>1</th>\n",
       "      <th>2</th>\n",
       "      <th>3</th>\n",
       "      <th>4</th>\n",
       "      <th>5</th>\n",
       "      <th>6</th>\n",
       "      <th>7</th>\n",
       "      <th>8</th>\n",
       "      <th>9</th>\n",
       "    </tr>\n",
       "  </thead>\n",
       "  <tbody>\n",
       "    <tr>\n",
       "      <th>gender</th>\n",
       "      <td>male</td>\n",
       "      <td>male</td>\n",
       "      <td>male</td>\n",
       "      <td>male</td>\n",
       "      <td>male</td>\n",
       "      <td>male</td>\n",
       "      <td>male</td>\n",
       "      <td>male</td>\n",
       "      <td>male</td>\n",
       "      <td>male</td>\n",
       "    </tr>\n",
       "    <tr>\n",
       "      <th>age</th>\n",
       "      <td>15</td>\n",
       "      <td>15</td>\n",
       "      <td>15</td>\n",
       "      <td>15</td>\n",
       "      <td>33</td>\n",
       "      <td>33</td>\n",
       "      <td>33</td>\n",
       "      <td>33</td>\n",
       "      <td>33</td>\n",
       "      <td>33</td>\n",
       "    </tr>\n",
       "    <tr>\n",
       "      <th>topic</th>\n",
       "      <td>Student</td>\n",
       "      <td>Student</td>\n",
       "      <td>Student</td>\n",
       "      <td>Student</td>\n",
       "      <td>InvestmentBanking</td>\n",
       "      <td>InvestmentBanking</td>\n",
       "      <td>InvestmentBanking</td>\n",
       "      <td>InvestmentBanking</td>\n",
       "      <td>InvestmentBanking</td>\n",
       "      <td>InvestmentBanking</td>\n",
       "    </tr>\n",
       "    <tr>\n",
       "      <th>sign</th>\n",
       "      <td>Leo</td>\n",
       "      <td>Leo</td>\n",
       "      <td>Leo</td>\n",
       "      <td>Leo</td>\n",
       "      <td>Aquarius</td>\n",
       "      <td>Aquarius</td>\n",
       "      <td>Aquarius</td>\n",
       "      <td>Aquarius</td>\n",
       "      <td>Aquarius</td>\n",
       "      <td>Aquarius</td>\n",
       "    </tr>\n",
       "    <tr>\n",
       "      <th>text</th>\n",
       "      <td>info found 100 pages 45 mb pdf files now wait ...</td>\n",
       "      <td>these team members drewes van der laag urllink...</td>\n",
       "      <td>in het kader van kernfusie op aarde maak je ei...</td>\n",
       "      <td>testing testing</td>\n",
       "      <td>thanks yahoos toolbar i capture urls popupswhi...</td>\n",
       "      <td>i interesting conversation dad morning we talk...</td>\n",
       "      <td>somehow cocacola way summing things well in ea...</td>\n",
       "      <td>if anything korea country extremes everything ...</td>\n",
       "      <td>take read news article urllink joongang ilbo n...</td>\n",
       "      <td>i surf english news sites lot looking tidbits ...</td>\n",
       "    </tr>\n",
       "  </tbody>\n",
       "</table>\n",
       "</div>"
      ],
      "text/plain": [
       "                                                        0  \\\n",
       "gender                                               male   \n",
       "age                                                    15   \n",
       "topic                                             Student   \n",
       "sign                                                  Leo   \n",
       "text    info found 100 pages 45 mb pdf files now wait ...   \n",
       "\n",
       "                                                        1  \\\n",
       "gender                                               male   \n",
       "age                                                    15   \n",
       "topic                                             Student   \n",
       "sign                                                  Leo   \n",
       "text    these team members drewes van der laag urllink...   \n",
       "\n",
       "                                                        2                3  \\\n",
       "gender                                               male             male   \n",
       "age                                                    15               15   \n",
       "topic                                             Student          Student   \n",
       "sign                                                  Leo              Leo   \n",
       "text    in het kader van kernfusie op aarde maak je ei...  testing testing   \n",
       "\n",
       "                                                        4  \\\n",
       "gender                                               male   \n",
       "age                                                    33   \n",
       "topic                                   InvestmentBanking   \n",
       "sign                                             Aquarius   \n",
       "text    thanks yahoos toolbar i capture urls popupswhi...   \n",
       "\n",
       "                                                        5  \\\n",
       "gender                                               male   \n",
       "age                                                    33   \n",
       "topic                                   InvestmentBanking   \n",
       "sign                                             Aquarius   \n",
       "text    i interesting conversation dad morning we talk...   \n",
       "\n",
       "                                                        6  \\\n",
       "gender                                               male   \n",
       "age                                                    33   \n",
       "topic                                   InvestmentBanking   \n",
       "sign                                             Aquarius   \n",
       "text    somehow cocacola way summing things well in ea...   \n",
       "\n",
       "                                                        7  \\\n",
       "gender                                               male   \n",
       "age                                                    33   \n",
       "topic                                   InvestmentBanking   \n",
       "sign                                             Aquarius   \n",
       "text    if anything korea country extremes everything ...   \n",
       "\n",
       "                                                        8  \\\n",
       "gender                                               male   \n",
       "age                                                    33   \n",
       "topic                                   InvestmentBanking   \n",
       "sign                                             Aquarius   \n",
       "text    take read news article urllink joongang ilbo n...   \n",
       "\n",
       "                                                        9  \n",
       "gender                                               male  \n",
       "age                                                    33  \n",
       "topic                                   InvestmentBanking  \n",
       "sign                                             Aquarius  \n",
       "text    i surf english news sites lot looking tidbits ...  "
      ]
     },
     "execution_count": 36,
     "metadata": {},
     "output_type": "execute_result"
    }
   ],
   "source": [
    "pd.set_option('display.max_colwidth', 50)\n",
    "data.head(10).T"
   ]
  },
  {
   "cell_type": "code",
   "execution_count": 38,
   "id": "f12756dc",
   "metadata": {},
   "outputs": [
    {
     "data": {
      "text/plain": [
       "False"
      ]
     },
     "execution_count": 38,
     "metadata": {},
     "output_type": "execute_result"
    }
   ],
   "source": [
    "data.isnull().any().any() \n",
    "\n",
    "# ## there are no null/missing values "
   ]
  },
  {
   "cell_type": "code",
   "execution_count": 39,
   "id": "fb46a739",
   "metadata": {},
   "outputs": [
    {
     "data": {
      "text/html": [
       "<div>\n",
       "<style scoped>\n",
       "    .dataframe tbody tr th:only-of-type {\n",
       "        vertical-align: middle;\n",
       "    }\n",
       "\n",
       "    .dataframe tbody tr th {\n",
       "        vertical-align: top;\n",
       "    }\n",
       "\n",
       "    .dataframe thead th {\n",
       "        text-align: right;\n",
       "    }\n",
       "</style>\n",
       "<table border=\"1\" class=\"dataframe\">\n",
       "  <thead>\n",
       "    <tr style=\"text-align: right;\">\n",
       "      <th></th>\n",
       "      <th>count</th>\n",
       "      <th>mean</th>\n",
       "      <th>std</th>\n",
       "      <th>min</th>\n",
       "      <th>25%</th>\n",
       "      <th>50%</th>\n",
       "      <th>75%</th>\n",
       "      <th>max</th>\n",
       "    </tr>\n",
       "  </thead>\n",
       "  <tbody>\n",
       "    <tr>\n",
       "      <th>age</th>\n",
       "      <td>681284.0</td>\n",
       "      <td>23.932326</td>\n",
       "      <td>7.786009</td>\n",
       "      <td>13.0</td>\n",
       "      <td>17.0</td>\n",
       "      <td>24.0</td>\n",
       "      <td>26.0</td>\n",
       "      <td>48.0</td>\n",
       "    </tr>\n",
       "  </tbody>\n",
       "</table>\n",
       "</div>"
      ],
      "text/plain": [
       "        count       mean       std   min   25%   50%   75%   max\n",
       "age  681284.0  23.932326  7.786009  13.0  17.0  24.0  26.0  48.0"
      ]
     },
     "execution_count": 39,
     "metadata": {},
     "output_type": "execute_result"
    }
   ],
   "source": [
    "data.describe(include = [np.number]).T"
   ]
  },
  {
   "cell_type": "code",
   "execution_count": 41,
   "id": "adedd094",
   "metadata": {},
   "outputs": [
    {
     "data": {
      "text/plain": [
       "17    80859\n",
       "24    80071\n",
       "23    72889\n",
       "16    72708\n",
       "25    67051\n",
       "26    55312\n",
       "27    46124\n",
       "15    41767\n",
       "14    27400\n",
       "34    21347\n",
       "33    17584\n",
       "35    17462\n",
       "36    14229\n",
       "13    13133\n",
       "37     9317\n",
       "38     7545\n",
       "39     5556\n",
       "40     5016\n",
       "45     4482\n",
       "43     4230\n",
       "41     3738\n",
       "48     3572\n",
       "42     2908\n",
       "46     2733\n",
       "47     2207\n",
       "44     2044\n",
       "Name: age, dtype: int64"
      ]
     },
     "execution_count": 41,
     "metadata": {},
     "output_type": "execute_result"
    }
   ],
   "source": [
    "data.age.value_counts()"
   ]
  },
  {
   "cell_type": "code",
   "execution_count": 42,
   "id": "343ab3a8",
   "metadata": {},
   "outputs": [
    {
     "name": "stderr",
     "output_type": "stream",
     "text": [
      "C:\\Users\\manvi\\AppData\\Local\\Temp\\ipykernel_10952\\2343557204.py:1: DeprecationWarning: `np.object` is a deprecated alias for the builtin `object`. To silence this warning, use `object` by itself. Doing this will not modify any behavior and is safe. \n",
      "Deprecated in NumPy 1.20; for more details and guidance: https://numpy.org/devdocs/release/1.20.0-notes.html#deprecations\n",
      "  data.describe(include = [np.object]).T\n"
     ]
    },
    {
     "data": {
      "text/html": [
       "<div>\n",
       "<style scoped>\n",
       "    .dataframe tbody tr th:only-of-type {\n",
       "        vertical-align: middle;\n",
       "    }\n",
       "\n",
       "    .dataframe tbody tr th {\n",
       "        vertical-align: top;\n",
       "    }\n",
       "\n",
       "    .dataframe thead th {\n",
       "        text-align: right;\n",
       "    }\n",
       "</style>\n",
       "<table border=\"1\" class=\"dataframe\">\n",
       "  <thead>\n",
       "    <tr style=\"text-align: right;\">\n",
       "      <th></th>\n",
       "      <th>count</th>\n",
       "      <th>unique</th>\n",
       "      <th>top</th>\n",
       "      <th>freq</th>\n",
       "    </tr>\n",
       "  </thead>\n",
       "  <tbody>\n",
       "    <tr>\n",
       "      <th>gender</th>\n",
       "      <td>681284</td>\n",
       "      <td>2</td>\n",
       "      <td>male</td>\n",
       "      <td>345193</td>\n",
       "    </tr>\n",
       "    <tr>\n",
       "      <th>topic</th>\n",
       "      <td>681284</td>\n",
       "      <td>40</td>\n",
       "      <td>indUnk</td>\n",
       "      <td>251015</td>\n",
       "    </tr>\n",
       "    <tr>\n",
       "      <th>sign</th>\n",
       "      <td>681284</td>\n",
       "      <td>12</td>\n",
       "      <td>Cancer</td>\n",
       "      <td>65048</td>\n",
       "    </tr>\n",
       "    <tr>\n",
       "      <th>text</th>\n",
       "      <td>681284</td>\n",
       "      <td>607983</td>\n",
       "      <td></td>\n",
       "      <td>3390</td>\n",
       "    </tr>\n",
       "  </tbody>\n",
       "</table>\n",
       "</div>"
      ],
      "text/plain": [
       "         count  unique     top    freq\n",
       "gender  681284       2    male  345193\n",
       "topic   681284      40  indUnk  251015\n",
       "sign    681284      12  Cancer   65048\n",
       "text    681284  607983            3390"
      ]
     },
     "execution_count": 42,
     "metadata": {},
     "output_type": "execute_result"
    }
   ],
   "source": [
    "data.describe(include = [np.object]).T"
   ]
  },
  {
   "cell_type": "code",
   "execution_count": 44,
   "id": "5c65f2a5",
   "metadata": {},
   "outputs": [],
   "source": [
    "## let's do some memory analysis for dataframe and try reducing whenever possible\n",
    "\n",
    "orignal_mem = data.memory_usage(deep=True)"
   ]
  },
  {
   "cell_type": "code",
   "execution_count": 45,
   "id": "02c92eea",
   "metadata": {},
   "outputs": [
    {
     "data": {
      "text/plain": [
       "Index           128\n",
       "gender     42230506\n",
       "age         5450272\n",
       "topic      44161324\n",
       "sign       43126036\n",
       "text      589262762\n",
       "dtype: int64"
      ]
     },
     "execution_count": 45,
     "metadata": {},
     "output_type": "execute_result"
    }
   ],
   "source": [
    "orignal_mem"
   ]
  },
  {
   "cell_type": "code",
   "execution_count": 46,
   "id": "adae81bb",
   "metadata": {},
   "outputs": [
    {
     "data": {
      "text/plain": [
       "male      345193\n",
       "female    336091\n",
       "Name: gender, dtype: int64"
      ]
     },
     "execution_count": 46,
     "metadata": {},
     "output_type": "execute_result"
    }
   ],
   "source": [
    "data.gender.value_counts()"
   ]
  },
  {
   "cell_type": "code",
   "execution_count": 48,
   "id": "851af968",
   "metadata": {},
   "outputs": [
    {
     "data": {
      "text/plain": [
       "<AxesSubplot:xlabel='age', ylabel='count'>"
      ]
     },
     "execution_count": 48,
     "metadata": {},
     "output_type": "execute_result"
    },
    {
     "data": {
      "image/png": "[encoded data removed]",
      "text/plain": [
       "<Figure size 432x288 with 1 Axes>"
      ]
     },
     "metadata": {
      "needs_background": "light"
     },
     "output_type": "display_data"
    }
   ],
   "source": [
    "sns.countplot(x=\"age\", data=data)"
   ]
  },
  {
   "cell_type": "code",
   "execution_count": 49,
   "id": "ef60c20d",
   "metadata": {},
   "outputs": [
    {
     "data": {
      "text/plain": [
       "<AxesSubplot:xlabel='age', ylabel='count'>"
      ]
     },
     "execution_count": 49,
     "metadata": {},
     "output_type": "execute_result"
    },
    {
     "data": {
      "image/png": "[encoded data removed]",
      "text/plain": [
       "<Figure size 432x288 with 1 Axes>"
      ]
     },
     "metadata": {
      "needs_background": "light"
     },
     "output_type": "display_data"
    }
   ],
   "source": [
    "sns.countplot(x=\"age\", hue=\"gender\", data=data)"
   ]
  },
  {
   "cell_type": "code",
   "execution_count": 51,
   "id": "16e7e3d8",
   "metadata": {},
   "outputs": [
    {
     "data": {
      "text/plain": [
       "<AxesSubplot:xlabel='topic', ylabel='count'>"
      ]
     },
     "execution_count": 51,
     "metadata": {},
     "output_type": "execute_result"
    },
    {
     "data": {
      "image/png": "[encoded data removed]",
      "text/plain": [
       "<Figure size 432x288 with 1 Axes>"
      ]
     },
     "metadata": {
      "needs_background": "light"
     },
     "output_type": "display_data"
    }
   ],
   "source": [
    "sns.countplot(x=\"topic\", hue=\"gender\", data=data)"
   ]
  },
  {
   "cell_type": "markdown",
   "id": "e34079f4",
   "metadata": {},
   "source": [
    "### Merge labels for multi-label classification problem \n",
    "\n",
    "       Label columns to merge : [\"gender\", \"age\", \"topic\", \"sign\"]\n",
    "       \n",
    "       \n",
    "       Reduce dataset to \n",
    "           dataset --> dataset[text, labels]"
   ]
  },
  {
   "cell_type": "code",
   "execution_count": 52,
   "id": "165a5c31",
   "metadata": {},
   "outputs": [],
   "source": [
    "data[\"age\"] = data[\"age\"].astype(str)\n",
    "data[\"labels\"] = data.apply(lambda col :\n",
    "                            [col[\"gender\"],col[\"age\"],col[\"topic\"],col[\"sign\"]],axis =1)"
   ]
  },
  {
   "cell_type": "code",
   "execution_count": 54,
   "id": "949f9b94",
   "metadata": {},
   "outputs": [
    {
     "data": {
      "text/plain": [
       "0"
      ]
     },
     "execution_count": 54,
     "metadata": {},
     "output_type": "execute_result"
    }
   ],
   "source": [
    "data.drop(columns=[\"gender\",\"age\",\"sign\",\"topic\"],axis =1, inplace = True)\n",
    "gc.collect()"
   ]
  },
  {
   "cell_type": "code",
   "execution_count": 55,
   "id": "afb36ddf",
   "metadata": {},
   "outputs": [
    {
     "data": {
      "text/html": [
       "<div>\n",
       "<style scoped>\n",
       "    .dataframe tbody tr th:only-of-type {\n",
       "        vertical-align: middle;\n",
       "    }\n",
       "\n",
       "    .dataframe tbody tr th {\n",
       "        vertical-align: top;\n",
       "    }\n",
       "\n",
       "    .dataframe thead th {\n",
       "        text-align: right;\n",
       "    }\n",
       "</style>\n",
       "<table border=\"1\" class=\"dataframe\">\n",
       "  <thead>\n",
       "    <tr style=\"text-align: right;\">\n",
       "      <th></th>\n",
       "      <th>text</th>\n",
       "      <th>labels</th>\n",
       "    </tr>\n",
       "  </thead>\n",
       "  <tbody>\n",
       "    <tr>\n",
       "      <th>0</th>\n",
       "      <td>info found 100 pages 45 mb pdf files now wait ...</td>\n",
       "      <td>[male, 15, Student, Leo]</td>\n",
       "    </tr>\n",
       "    <tr>\n",
       "      <th>1</th>\n",
       "      <td>these team members drewes van der laag urllink...</td>\n",
       "      <td>[male, 15, Student, Leo]</td>\n",
       "    </tr>\n",
       "    <tr>\n",
       "      <th>2</th>\n",
       "      <td>in het kader van kernfusie op aarde maak je ei...</td>\n",
       "      <td>[male, 15, Student, Leo]</td>\n",
       "    </tr>\n",
       "    <tr>\n",
       "      <th>3</th>\n",
       "      <td>testing testing</td>\n",
       "      <td>[male, 15, Student, Leo]</td>\n",
       "    </tr>\n",
       "    <tr>\n",
       "      <th>4</th>\n",
       "      <td>thanks yahoos toolbar i capture urls popupswhi...</td>\n",
       "      <td>[male, 33, InvestmentBanking, Aquarius]</td>\n",
       "    </tr>\n",
       "    <tr>\n",
       "      <th>5</th>\n",
       "      <td>i interesting conversation dad morning we talk...</td>\n",
       "      <td>[male, 33, InvestmentBanking, Aquarius]</td>\n",
       "    </tr>\n",
       "    <tr>\n",
       "      <th>6</th>\n",
       "      <td>somehow cocacola way summing things well in ea...</td>\n",
       "      <td>[male, 33, InvestmentBanking, Aquarius]</td>\n",
       "    </tr>\n",
       "    <tr>\n",
       "      <th>7</th>\n",
       "      <td>if anything korea country extremes everything ...</td>\n",
       "      <td>[male, 33, InvestmentBanking, Aquarius]</td>\n",
       "    </tr>\n",
       "    <tr>\n",
       "      <th>8</th>\n",
       "      <td>take read news article urllink joongang ilbo n...</td>\n",
       "      <td>[male, 33, InvestmentBanking, Aquarius]</td>\n",
       "    </tr>\n",
       "    <tr>\n",
       "      <th>9</th>\n",
       "      <td>i surf english news sites lot looking tidbits ...</td>\n",
       "      <td>[male, 33, InvestmentBanking, Aquarius]</td>\n",
       "    </tr>\n",
       "  </tbody>\n",
       "</table>\n",
       "</div>"
      ],
      "text/plain": [
       "                                                text  \\\n",
       "0  info found 100 pages 45 mb pdf files now wait ...   \n",
       "1  these team members drewes van der laag urllink...   \n",
       "2  in het kader van kernfusie op aarde maak je ei...   \n",
       "3                                    testing testing   \n",
       "4  thanks yahoos toolbar i capture urls popupswhi...   \n",
       "5  i interesting conversation dad morning we talk...   \n",
       "6  somehow cocacola way summing things well in ea...   \n",
       "7  if anything korea country extremes everything ...   \n",
       "8  take read news article urllink joongang ilbo n...   \n",
       "9  i surf english news sites lot looking tidbits ...   \n",
       "\n",
       "                                    labels  \n",
       "0                 [male, 15, Student, Leo]  \n",
       "1                 [male, 15, Student, Leo]  \n",
       "2                 [male, 15, Student, Leo]  \n",
       "3                 [male, 15, Student, Leo]  \n",
       "4  [male, 33, InvestmentBanking, Aquarius]  \n",
       "5  [male, 33, InvestmentBanking, Aquarius]  \n",
       "6  [male, 33, InvestmentBanking, Aquarius]  \n",
       "7  [male, 33, InvestmentBanking, Aquarius]  \n",
       "8  [male, 33, InvestmentBanking, Aquarius]  \n",
       "9  [male, 33, InvestmentBanking, Aquarius]  "
      ]
     },
     "execution_count": 55,
     "metadata": {},
     "output_type": "execute_result"
    }
   ],
   "source": [
    "data.head(10)"
   ]
  },
  {
   "cell_type": "markdown",
   "id": "686ba46b",
   "metadata": {},
   "source": [
    "### Create train and test dataset\n",
    "\n",
    "    Let's create a simple train and test dataset then create a cross validation too"
   ]
  },
  {
   "cell_type": "code",
   "execution_count": 57,
   "id": "4c0cdb92",
   "metadata": {},
   "outputs": [],
   "source": [
    "from sklearn.model_selection import train_test_split\n",
    "\n",
    "X = data.text\n",
    "y = data.labels\n",
    "\n",
    "X_train, X_test, y_train, y_test =train_test_split(X,y, random_state=42,\n",
    "                                                   test_size = 0.1,\n",
    "                                                  shuffle = True)"
   ]
  },
  {
   "cell_type": "code",
   "execution_count": 58,
   "id": "2dabd621",
   "metadata": {},
   "outputs": [
    {
     "name": "stdout",
     "output_type": "stream",
     "text": [
      "shape of training set : (613155,)\n",
      "shape of test set : (68129,)\n"
     ]
    }
   ],
   "source": [
    "print(\"shape of training set :\", X_train.shape)\n",
    "print(\"shape of test set :\", X_test.shape)\n",
    "\n",
    "# gc.collect()"
   ]
  },
  {
   "cell_type": "markdown",
   "id": "11a73579",
   "metadata": {},
   "source": [
    "### Vectorizing the features \n",
    "\n",
    "    1. Bag of words \n",
    "    2. TfIDF\n",
    "    \n",
    "    \n",
    "    \n",
    "  #### Counte Vectorizer on BoW "
   ]
  },
  {
   "cell_type": "code",
   "execution_count": 59,
   "id": "f90b9fe8",
   "metadata": {},
   "outputs": [],
   "source": [
    "from sklearn.feature_extraction.text import TfidfVectorizer, CountVectorizer\n",
    "\n",
    "ctv = CountVectorizer(analyzer='word', token_pattern=r'\\w{1,}', \n",
    "                      ngram_range=(1, 3), stop_words = 'english')\n",
    "\n",
    "# inspired by : https://www.kaggle.com/abhishek/approaching-almost-any-nlp-problem-on-kaggle\n",
    "# # Fitting Count Vectorizer to both training and test sets (semi-supervised learning)\n",
    "\n",
    "corpus = list(X_train)+list(X_test)\n",
    "# gc.collect()\n"
   ]
  },
  {
   "cell_type": "code",
   "execution_count": null,
   "id": "44ee5f3f",
   "metadata": {},
   "outputs": [],
   "source": [
    "ctv.fit(corpus)"
   ]
  },
  {
   "cell_type": "code",
   "execution_count": null,
   "id": "925af844",
   "metadata": {},
   "outputs": [],
   "source": [
    "# gc.collect()\n",
    "xtrain_ctv = ctv.transform(X_train)"
   ]
  },
  {
   "cell_type": "code",
   "execution_count": null,
   "id": "94a04c03",
   "metadata": {},
   "outputs": [],
   "source": [
    "# gc.collect()\n",
    "xtest_ctv = ctv.transform(X_test)"
   ]
  },
  {
   "cell_type": "code",
   "execution_count": null,
   "id": "5e1d13f5",
   "metadata": {},
   "outputs": [],
   "source": [
    "print(len(ctv.vocabulary_))"
   ]
  },
  {
   "cell_type": "code",
   "execution_count": null,
   "id": "e116d552",
   "metadata": {},
   "outputs": [],
   "source": [
    "ctv.get_feature_names()[:10]"
   ]
  },
  {
   "cell_type": "markdown",
   "id": "835f5d6a",
   "metadata": {},
   "source": [
    "### Create a dictionary to get the count of every label \n",
    "    The key will be label name and value will be the total count of the label. Check below image for reference"
   ]
  },
  {
   "cell_type": "code",
   "execution_count": null,
   "id": "21b408bc",
   "metadata": {},
   "outputs": [],
   "source": [
    "label_counts=dict()\n",
    "\n",
    "for labels in data_orignal.labels.values:\n",
    "    for label in labels:\n",
    "        if label in label_counts:\n",
    "            label_counts[str(label)]+=1\n",
    "        else:\n",
    "            label_counts[str(label)]=1\n",
    "        \n",
    "label_counts\n",
    "\n",
    "\n",
    "# gc.collect()"
   ]
  },
  {
   "cell_type": "markdown",
   "id": "0b823fdc",
   "metadata": {},
   "source": [
    "### Transform the labels\n",
    "\n",
    "\n",
    "    Transform between iterable of iterables and a multilabel format\n",
    "    \n",
    "    As we have noticed before, in this task each example can have multiple tags. To deal with such kind of prediction, we need to transform labels in a binary form and the prediction will be a mask of 0s and 1s. For this purpose, it is convenient to use MultiLabelBinarizer from sklearn a. Convert your train and test labels using MultiLabelBinarizer"
   ]
  },
  {
   "cell_type": "code",
   "execution_count": null,
   "id": "8c86b9cb",
   "metadata": {},
   "outputs": [],
   "source": [
    "from sklearn.preprocessing import MultiLabelBinarizer\n",
    "\n",
    "# Transform between iterable of iterables and a multilabel format\n",
    "binarizer=MultiLabelBinarizer(classes=sorted(label_counts.keys()))\n",
    "\n",
    "\n",
    "y_train = binarizer.fit_transform(y_train)\n",
    "y_test = binarizer.transform(y_test)"
   ]
  },
  {
   "cell_type": "code",
   "execution_count": null,
   "id": "23cd9420",
   "metadata": {},
   "outputs": [],
   "source": [
    "y_train"
   ]
  },
  {
   "cell_type": "markdown",
   "id": "8cc07ca5",
   "metadata": {},
   "source": [
    "### Multi-Label Classification Techniques\n",
    "\n",
    "    Most traditional learning algorithms are developed for single-label classification problems. Therefore a lot of approaches in the literature transform the multi-label problem into multiple single-label problems, so that the existing single-label algorithms can be used."
   ]
  },
  {
   "cell_type": "markdown",
   "id": "d60f9cd3",
   "metadata": {},
   "source": [
    "### Accuracy metric \n",
    "\n",
    "\n",
    "Before diving into preparing models , let's settle with Metrics to measure prediction score\n",
    "\n",
    "        1. Accuracy score\n",
    "        2. F1 Score\n",
    "        3. Average precision score : \n",
    "            3.1 Macro averaged precision: calculate precision for all classes\n",
    "                individually and then average them\n",
    "            3.2 Micro averaged precision: calculate class wise true positive and false\n",
    "                positive and then use that to calculate overall precision\n",
    "        4. Average recall score\n"
   ]
  },
  {
   "cell_type": "code",
   "execution_count": null,
   "id": "031e4816",
   "metadata": {},
   "outputs": [],
   "source": [
    "from sklearn.metrics import accuracy_score\n",
    "from sklearn.metrics import f1_score\n",
    "from sklearn.metrics import average_precision_score\n",
    "from sklearn.metrics import recall_score\n",
    "\n",
    "def display_metrics_micro(Ytest, Ypred):\n",
    "    print('Accuracy score: ', accuracy_score(Ytest, Ypred))\n",
    "    print('F1 score: Micro', f1_score(Ytest, Ypred, average='micro'))\n",
    "    print('Average precision score: Micro', average_precision_score(Ytest, Ypred, average='micro'))\n",
    "    print('Average recall score: Micro', recall_score(Ytest, Ypred, average='micro'))\n",
    "    \n",
    "    \n",
    "def display_metrics_macro(Ytest, Ypred):\n",
    "    print('Accuracy score: ', accuracy_score(Ytest, Ypred))\n",
    "    print('F1 score: Macro', f1_score(Ytest, Ypred, average='macro'))\n",
    "    print('Average recall score: MAcro', recall_score(Ytest, Ypred, average='macro'))\n",
    "    \n",
    "def display_metrics_weighted(Ytest, Ypred):\n",
    "    print('Accuracy score: ', accuracy_score(Ytest, Ypred))\n",
    "    print('F1 score: weighted', f1_score(Ytest, Ypred, average='weighted'))\n",
    "    print('Average precision score: weighted', average_precision_score(Ytest, Ypred, average='weighted'))\n",
    "    print('Average recall score: weighted', recall_score(Ytest, Ypred, average='weighted'))"
   ]
  },
  {
   "cell_type": "markdown",
   "id": "4902ffd5",
   "metadata": {},
   "source": [
    "### 1. OneVsRest\n",
    "\n",
    "    Traditional two-class and multi-class problems can both be cast into multi-label ones by restricting each instance to have only one label. On the other hand, the generality of multi-label problems inevitably makes it more difficult to learn. An intuitive approach to solving multi-label problem is to decompose it into multiple independent binary classification problems (one per category).\n",
    "    \n",
    "    In an “one-to-rest” strategy, one could build multiple independent classifiers and, for an unseen instance, choose the class for which the confidence is maximized.\n",
    "    \n",
    "    The main assumption here is that the labels are mutually exclusive. You do not consider any underlying correlation between the classes in this method."
   ]
  },
  {
   "cell_type": "code",
   "execution_count": null,
   "id": "e7447c5b",
   "metadata": {},
   "outputs": [],
   "source": [
    "from sklearn.linear_model import LogisticRegression\n",
    "from sklearn.pipeline import Pipeline\n",
    "from sklearn.metrics import accuracy_score\n",
    "from sklearn.multiclass import OneVsRestClassifier\n",
    "\n",
    "# Using pipeline for applying logistic regression and one vs rest classifier\n",
    "LogReg_pipeline = Pipeline([\n",
    "                ('clf', OneVsRestClassifier(LogisticRegression(solver='sag'),\n",
    "                    n_jobs=-1)),])\n",
    "LogReg_pipeline.fit(xtrain_ctv, y_train)\n",
    "\n",
    "Y_predicted_oneVsRest = LogReg_pipeline.predict(xtest_ctv)\n",
    "\n"
   ]
  },
  {
   "cell_type": "markdown",
   "id": "d2f1e5eb",
   "metadata": {},
   "source": [
    "##### To Try :\n",
    " 1. Bianry Relevance\n",
    " 2. Classifier Chains\n",
    " 3. Label Powerset \n",
    " 4. Adapted Algorithm"
   ]
  },
  {
   "cell_type": "code",
   "execution_count": null,
   "id": "3d469bfa",
   "metadata": {},
   "outputs": [],
   "source": [
    "display_metrics_micro(y_test,Y_predicted_oneVsRest)"
   ]
  },
  {
   "cell_type": "code",
   "execution_count": null,
   "id": "6a18aeef",
   "metadata": {},
   "outputs": [],
   "source": [
    "display_metrics_macro(y_test,Y_predicted_oneVsRest)"
   ]
  },
  {
   "cell_type": "code",
   "execution_count": null,
   "id": "c020f8df",
   "metadata": {},
   "outputs": [],
   "source": [
    "display_metrics_weighted(y_test,Y_predicted_oneVsRest)"
   ]
  },
  {
   "cell_type": "markdown",
   "id": "a8614c60",
   "metadata": {},
   "source": [
    "### Let's check for any 5 inputs and there predicted labels\n",
    "Print true label and predicted label for any five examples"
   ]
  },
  {
   "cell_type": "code",
   "execution_count": null,
   "id": "cb499360",
   "metadata": {},
   "outputs": [],
   "source": [
    "import random \n",
    "\n",
    "def print_predicted(y_predicted, y_test = y_test , n = 5):\n",
    "    j = []\n",
    "    for i in range(n):\n",
    "        j.append(random.randint(0, len(y_test)))\n",
    "    print(j)\n",
    "                 \n",
    "    for k in j:\n",
    "        print(binarizer.inverse_transform(y_predicted)[k])\n",
    "        print(binarizer.inverse_transform(y_test)[k])\n",
    "        print(\"=================x==================x================x==========\")"
   ]
  },
  {
   "cell_type": "code",
   "execution_count": null,
   "id": "965c37f6",
   "metadata": {},
   "outputs": [],
   "source": [
    "print_predicted(y_predicted=Y_predicted_oneVsRest,y_test=y_test, n= 10)"
   ]
  },
  {
   "cell_type": "code",
   "execution_count": null,
   "id": "645c9cc0",
   "metadata": {},
   "outputs": [],
   "source": [
    "print(\"-----------------------------EndofKernal----------------------------------------\")"
   ]
  },
  {
   "cell_type": "code",
   "execution_count": null,
   "id": "5605810c",
   "metadata": {},
   "outputs": [],
   "source": []
  },
  {
   "cell_type": "markdown",
   "id": "6ecac361",
   "metadata": {},
   "source": [
    "# PART-B"
   ]
  },
  {
   "cell_type": "markdown",
   "id": "5a69b153",
   "metadata": {},
   "source": [
    "• **DOMAIN:** Customer support\n",
    "\n",
    "• **CONTEXT**: Great Learning has a an academic support department which receives numerous support requests every day throughout the year.Teams are spread across geographies and try to provide support round the year. Sometimes there are circumstances where due to heavy workload certain request resolutions are delayed, impacting company’s business. Some of the requests are very generic where a proper resolution procedure delivered to the user can solve the problem. Company is looking forward to design an automation which can interact with the user, understand the problem and display the resolution procedure [ if found as a generic request ] or redirect the request to an actual human support executive if the request is complex or not in it’s database.\n",
    "\n",
    "• **DATA DESCRIPTION**: A sample corpus is attached for your reference. Please enhance/add more data to the corpus using your linguistics skills.\n",
    "\n",
    "• **PROJECT OBJECTIVE**: Design a python based interactive semi - rule based chatbot which can do the following:\n",
    "1. Start chat session with greetings and ask what the user is looking for. [5 Marks]\n",
    "2. Accept dynamic text based questions from the user. Reply back with relevant answer from the designed corpus. [10 Marks]\n",
    "3. End the chat session only if the user requests to end else ask what the user is looking for. Loop continues till the user asks to end it. [5 Marks]\n",
    "Hint: There are a lot of techniques using which one can clean and prepare the data which can be used to train a ML/DL classifier. Hence, it might\n",
    "require you to experiment, research, self learn and implement the above classifier. There might be many iterations between hand building the\n",
    "corpus and designing the best fit text classifier. As the quality and quantity of corpus increases the model’s performance i.e. ability to answer\n",
    "right questions also increases.\n",
    "Reference: https://www.mygreatlearning.com/blog/basics-of-building-an-artificial-intelligence-chatbot/\n",
    "\n",
    "• **Evaluation**: Evaluator will use linguistics to twist and turn sentences to ask questions on the topics described in DATA DESCRIPTION and check if\n",
    "the bot is giving relevant replies."
   ]
  },
  {
   "cell_type": "code",
   "execution_count": 1,
   "id": "5a88e1f1",
   "metadata": {},
   "outputs": [
    {
     "name": "stderr",
     "output_type": "stream",
     "text": [
      "[nltk_data] Downloading package punkt to\n",
      "[nltk_data]     C:\\Users\\manvi\\AppData\\Roaming\\nltk_data...\n",
      "[nltk_data]   Package punkt is already up-to-date!\n"
     ]
    }
   ],
   "source": [
    "# import libraries\n",
    "import numpy as np\n",
    "import nltk\n",
    "nltk.download('punkt')\n",
    "from nltk.stem.porter import PorterStemmer\n",
    "stemmer = PorterStemmer()\n",
    "\n",
    "def tokenize(sentence):\n",
    "    \"\"\"\n",
    "    split sentence into array of words/tokens\n",
    "    a token can be a word or punctuation character, or number\n",
    "    \"\"\"\n",
    "    return nltk.word_tokenize(sentence)\n",
    "\n",
    "\n",
    "def stem(word):\n",
    "    \"\"\"\n",
    "    stemming = find the root form of the word\n",
    "    examples:\n",
    "    words = [\"organize\", \"organizes\", \"organizing\"]\n",
    "    words = [stem(w) for w in words]\n",
    "    -> [\"organ\", \"organ\", \"organ\"]\n",
    "    \"\"\"\n",
    "    return stemmer.stem(word.lower())\n",
    "\n",
    "\n",
    "def bag_of_words(tokenized_sentence, words):\n",
    "    \"\"\"\n",
    "    return bag of words array:\n",
    "    1 for each known word that exists in the sentence, 0 otherwise\n",
    "    example:\n",
    "    sentence = [\"hello\", \"how\", \"are\", \"you\"]\n",
    "    words = [\"hi\", \"hello\", \"I\", \"you\", \"bye\", \"thank\", \"cool\"]\n",
    "    bog   = [  0 ,    1 ,    0 ,   1 ,    0 ,    0 ,      0]\n",
    "    \"\"\"\n",
    "    # stem each word\n",
    "    sentence_words = [stem(word) for word in tokenized_sentence]\n",
    "    # initialize bag with 0 for each word\n",
    "    bag = np.zeros(len(words), dtype=np.float32)\n",
    "    for idx, w in enumerate(words):\n",
    "        if w in sentence_words: \n",
    "            bag[idx] = 1\n",
    "\n",
    "    return bag"
   ]
  },
  {
   "cell_type": "code",
   "execution_count": 2,
   "id": "a1011cee",
   "metadata": {},
   "outputs": [],
   "source": [
    "import torch\n",
    "import torch.nn as nn\n",
    "\n",
    "\n",
    "class NeuralNet(nn.Module):\n",
    "    def __init__(self, input_size, hidden_size, num_classes):\n",
    "        super(NeuralNet, self).__init__()\n",
    "        self.l1 = nn.Linear(input_size, hidden_size) \n",
    "        self.l2 = nn.Linear(hidden_size, hidden_size) \n",
    "        self.l3 = nn.Linear(hidden_size, num_classes)\n",
    "        self.relu = nn.ReLU()\n",
    "    \n",
    "    def forward(self, x):\n",
    "        out = self.l1(x)\n",
    "        out = self.relu(out)\n",
    "        out = self.l2(out)\n",
    "        out = self.relu(out)\n",
    "        out = self.l3(out)\n",
    "        # no activation and no softmax at the end\n",
    "        return out"
   ]
  },
  {
   "cell_type": "code",
   "execution_count": 3,
   "id": "2a4c178c",
   "metadata": {},
   "outputs": [
    {
     "name": "stdout",
     "output_type": "stream",
     "text": [
      "128 patterns\n",
      "8 tags: ['Bot', 'Exit', 'Intro', 'NN', 'Olympus', 'Profane', 'SL', 'Ticket']\n",
      "154 unique stemmed words: ['a', 'abl', 'access', 'activ', 'ada', 'adam', 'aifl', 'aiml', 'am', 'an', 'ann', 'anyon', 'are', 'artifici', 'backward', 'bad', 'bag', 'batch', 'bay', 'belong', 'best', 'blend', 'bloodi', 'boost', 'bot', 'buddi', 'classif', 'contact', 'creat', 'cross', 'cya', 'day', 'deep', 'did', 'diffult', 'do', 'ensembl', 'epoch', 'explain', 'first', 'for', 'forest', 'forward', 'from', 'function', 'good', 'goodby', 'gradient', 'great', 'hate', 'have', 'hell', 'hello', 'help', 'hey', 'hi', 'hidden', 'hour', 'how', 'hyper', 'i', 'imput', 'in', 'intellig', 'is', 'jerk', 'joke', 'knn', 'later', 'layer', 'learn', 'learner', 'leav', 'link', 'listen', 'logist', 'lot', 'machin', 'me', 'ml', 'my', 'naiv', 'name', 'nb', 'net', 'network', 'neural', 'no', 'not', 'of', 'olympu', 'olypu', 'on', 'onlin', 'oper', 'opert', 'otim', 'paramet', 'piec', 'pleas', 'pm', 'problem', 'propag', 'random', 'regress', 'relu', 'screw', 'see', 'sgd', 'shit', 'sigmoid', 'sl', 'smart', 'softmax', 'solut', 'solv', 'stupid', 'supervis', 'svm', 'talk', 'teach', 'techb=niqu', 'techniqu', 'thank', 'the', 'there', 'think', 'ticket', 'time', 'to', 'ton', 'too', 'tool', 'unabl', 'understand', 'up', 'use', 'useless', 'valid', 'veri', 'visibl', 'wast', 'weight', 'what', 'when', 'who', 'whom', 'window', 'with', 'work', 'ya', 'yo', 'you', 'your']\n",
      "154 8\n",
      "Epoch [100/1000], Loss: 0.0330\n",
      "Epoch [200/1000], Loss: 0.0019\n",
      "Epoch [300/1000], Loss: 0.0011\n",
      "Epoch [400/1000], Loss: 0.0001\n",
      "Epoch [500/1000], Loss: 0.0001\n",
      "Epoch [600/1000], Loss: 0.0000\n",
      "Epoch [700/1000], Loss: 0.0000\n",
      "Epoch [800/1000], Loss: 0.0000\n",
      "Epoch [900/1000], Loss: 0.0000\n",
      "Epoch [1000/1000], Loss: 0.0000\n",
      "final loss: 0.0000\n",
      "training complete. file saved to data.pth\n"
     ]
    }
   ],
   "source": [
    "import numpy as np\n",
    "import random\n",
    "import json\n",
    "\n",
    "import torch\n",
    "import torch.nn as nn\n",
    "from torch.utils.data import Dataset, DataLoader\n",
    "\n",
    "# from nltk_utils import bag_of_words, tokenize, stem\n",
    "# from model import NeuralNet\n",
    "\n",
    "with open('GL Bot.json', 'r') as f:\n",
    "    intents = json.load(f)\n",
    "\n",
    "all_words = []\n",
    "tags = []\n",
    "xy = []\n",
    "# loop through each sentence in our intents patterns\n",
    "for intent in intents['intents']:\n",
    "    tag = intent['tag']\n",
    "    # add to tag list\n",
    "    tags.append(tag)\n",
    "    for pattern in intent['patterns']:\n",
    "        # tokenize each word in the sentence\n",
    "        w = tokenize(pattern)\n",
    "        # add to our words list\n",
    "        all_words.extend(w)\n",
    "        # add to xy pair\n",
    "        xy.append((w, tag))\n",
    "\n",
    "# stem and lower each word\n",
    "ignore_words = ['?', '.', '!']\n",
    "all_words = [stem(w) for w in all_words if w not in ignore_words]\n",
    "# remove duplicates and sort\n",
    "all_words = sorted(set(all_words))\n",
    "tags = sorted(set(tags))\n",
    "\n",
    "print(len(xy), \"patterns\")\n",
    "print(len(tags), \"tags:\", tags)\n",
    "print(len(all_words), \"unique stemmed words:\", all_words)\n",
    "\n",
    "# create training data\n",
    "X_train = []\n",
    "y_train = []\n",
    "for (pattern_sentence, tag) in xy:\n",
    "    # X: bag of words for each pattern_sentence\n",
    "    bag = bag_of_words(pattern_sentence, all_words)\n",
    "    X_train.append(bag)\n",
    "    # y: PyTorch CrossEntropyLoss needs only class labels, not one-hot\n",
    "    label = tags.index(tag)\n",
    "    y_train.append(label)\n",
    "\n",
    "X_train = np.array(X_train)\n",
    "y_train = np.array(y_train)\n",
    "\n",
    "# Hyper-parameters \n",
    "num_epochs = 1000\n",
    "batch_size = 8\n",
    "learning_rate = 0.001\n",
    "input_size = len(X_train[0])\n",
    "hidden_size = 8\n",
    "output_size = len(tags)\n",
    "print(input_size, output_size)\n",
    "\n",
    "class ChatDataset(Dataset):\n",
    "\n",
    "    def __init__(self):\n",
    "        self.n_samples = len(X_train)\n",
    "        self.x_data = X_train\n",
    "        self.y_data = y_train\n",
    "\n",
    "    # support indexing such that dataset[i] can be used to get i-th sample\n",
    "    def __getitem__(self, index):\n",
    "        return self.x_data[index], self.y_data[index]\n",
    "\n",
    "    # we can call len(dataset) to return the size\n",
    "    def __len__(self):\n",
    "        return self.n_samples\n",
    "\n",
    "dataset = ChatDataset()\n",
    "train_loader = DataLoader(dataset=dataset,\n",
    "                          batch_size=batch_size,\n",
    "                          shuffle=True,\n",
    "                          num_workers=0)\n",
    "\n",
    "device = torch.device('cuda' if torch.cuda.is_available() else 'cpu')\n",
    "\n",
    "model = NeuralNet(input_size, hidden_size, output_size).to(device)\n",
    "\n",
    "# Loss and optimizer\n",
    "criterion = nn.CrossEntropyLoss()\n",
    "optimizer = torch.optim.Adam(model.parameters(), lr=learning_rate)\n",
    "\n",
    "# Train the model\n",
    "for epoch in range(num_epochs):\n",
    "    for (words, labels) in train_loader:\n",
    "        words = words.to(device)\n",
    "        labels = labels.to(dtype=torch.long).to(device)\n",
    "        \n",
    "        # Forward pass\n",
    "        outputs = model(words)\n",
    "        # if y would be one-hot, we must apply\n",
    "        # labels = torch.max(labels, 1)[1]\n",
    "        loss = criterion(outputs, labels)\n",
    "        \n",
    "        # Backward and optimize\n",
    "        optimizer.zero_grad()\n",
    "        loss.backward()\n",
    "        optimizer.step()\n",
    "        \n",
    "    if (epoch+1) % 100 == 0:\n",
    "        print (f'Epoch [{epoch+1}/{num_epochs}], Loss: {loss.item():.4f}')\n",
    "\n",
    "\n",
    "print(f'final loss: {loss.item():.4f}')\n",
    "\n",
    "data = {\n",
    "\"model_state\": model.state_dict(),\n",
    "\"input_size\": input_size,\n",
    "\"hidden_size\": hidden_size,\n",
    "\"output_size\": output_size,\n",
    "\"all_words\": all_words,\n",
    "\"tags\": tags\n",
    "}\n",
    "\n",
    "FILE = \"data.pth\"\n",
    "torch.save(data, FILE)\n",
    "\n",
    "print(f'training complete. file saved to {FILE}')\n"
   ]
  },
  {
   "cell_type": "code",
   "execution_count": 4,
   "id": "edcd74af",
   "metadata": {},
   "outputs": [
    {
     "name": "stdout",
     "output_type": "stream",
     "text": [
      "Let's chat! (type 'quit' to exit)\n",
      "You: Hi\n",
      "Pari: Hello! how can i help you ?\n",
      "You: what is your name\n",
      "Pari: I am your virtual learning assistant\n",
      "You: is anyone there\n",
      "Pari: Hello! how can i help you ?\n",
      "You: olympus\n",
      "Pari: Link: Olympus wiki\n",
      "You: explain about deep learning\n",
      "Pari: Link: Neural Nets wiki\n",
      "You: idiot\n",
      "Pari: I do not understand...\n",
      "You: jerk\n",
      "Pari: Please use respectful words\n",
      "You: waste bot\n",
      "Pari: Tarnsferring the request to your PM\n",
      "You: you are not helping me\n",
      "Pari: Link: Olympus wiki\n",
      "You: bye\n",
      "Pari: I do not understand...\n",
      "You: then understand\n",
      "Pari: Link: Neural Nets wiki\n",
      "You: quit\n"
     ]
    }
   ],
   "source": [
    "import random\n",
    "import json\n",
    "\n",
    "import torch\n",
    "\n",
    "# from model import NeuralNet\n",
    "# from nltk_utils import bag_of_words, tokenize\n",
    "\n",
    "device = torch.device('cuda' if torch.cuda.is_available() else 'cpu')\n",
    "\n",
    "with open('GL Bot.json', 'r') as json_data:\n",
    "    intents = json.load(json_data)\n",
    "\n",
    "FILE = \"data.pth\"\n",
    "data = torch.load(FILE)\n",
    "\n",
    "input_size = data[\"input_size\"]\n",
    "hidden_size = data[\"hidden_size\"]\n",
    "output_size = data[\"output_size\"]\n",
    "all_words = data['all_words']\n",
    "tags = data['tags']\n",
    "model_state = data[\"model_state\"]\n",
    "\n",
    "model = NeuralNet(input_size, hidden_size, output_size).to(device)\n",
    "model.load_state_dict(model_state)\n",
    "model.eval()\n",
    "\n",
    "bot_name = \"Pari\"\n",
    "print(\"Let's chat! (type 'quit' to exit)\")\n",
    "while True:\n",
    "    sentence = input(\"You: \")\n",
    "    if sentence == \"quit\":\n",
    "        break\n",
    "\n",
    "    sentence = tokenize(sentence)\n",
    "    X = bag_of_words(sentence, all_words)\n",
    "    X = X.reshape(1, X.shape[0])\n",
    "    X = torch.from_numpy(X).to(device)\n",
    "\n",
    "    output = model(X)\n",
    "    _, predicted = torch.max(output, dim=1)\n",
    "\n",
    "    tag = tags[predicted.item()]\n",
    "\n",
    "    probs = torch.softmax(output, dim=1)\n",
    "    prob = probs[0][predicted.item()]\n",
    "    if prob.item() > 0.75:\n",
    "        for intent in intents['intents']:\n",
    "            if tag == intent[\"tag\"]:\n",
    "                print(f\"{bot_name}: {random.choice(intent['responses'])}\")\n",
    "    else:\n",
    "        print(f\"{bot_name}: I do not understand...\")"
   ]
  },
  {
   "cell_type": "code",
   "execution_count": null,
   "id": "ea39c9c5",
   "metadata": {},
   "outputs": [],
   "source": []
  }
 ],
 "metadata": {
  "kernelspec": {
   "display_name": "Python 3 (ipykernel)",
   "language": "python",
   "name": "python3"
  },
  "language_info": {
   "codemirror_mode": {
    "name": "ipython",
    "version": 3
   },
   "file_extension": ".py",
   "mimetype": "text/x-python",
   "name": "python",
   "nbconvert_exporter": "python",
   "pygments_lexer": "ipython3",
   "version": "3.8.10"
  }
 },
 "nbformat": 4,
 "nbformat_minor": 5
}
